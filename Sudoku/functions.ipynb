{
 "cells": [
  {
   "cell_type": "code",
   "execution_count": 1,
   "metadata": {},
   "outputs": [],
   "source": [
    "import numpy as np"
   ]
  },
  {
   "cell_type": "code",
   "execution_count": 2,
   "metadata": {},
   "outputs": [],
   "source": [
    "def make_grid(user_input):\n",
    "    \"\"\"Transforms user input into a two-dimensional Numpy array\"\"\"\n",
    "    grid = np.reshape(user_input, (9, 9))\n",
    "    return grid"
   ]
  },
  {
   "cell_type": "code",
   "execution_count": 3,
   "metadata": {},
   "outputs": [],
   "source": [
    "def check_empty_cell(grid, position):\n",
    "    \"\"\"Determines the next empty cell to be filled with a number by the Sudoku solver\"\"\"\n",
    "    value = grid[position // 9][position % 9]\n",
    "    return not value"
   ]
  },
  {
   "cell_type": "code",
   "execution_count": 4,
   "metadata": {},
   "outputs": [],
   "source": [
    "def found_in_row(grid, position, num):\n",
    "    \"\"\"Finds whether the suggested number is already in the row\"\"\"\n",
    "    return num in grid[position // 9]   "
   ]
  },
  {
   "cell_type": "code",
   "execution_count": 5,
   "metadata": {},
   "outputs": [],
   "source": [
    "def found_in_col(grid, position, num):\n",
    "    \"\"\"Finds whether the suggested number is already in the column\"\"\"\n",
    "    return num in grid[:, position % 9]"
   ]
  },
  {
   "cell_type": "code",
   "execution_count": 6,
   "metadata": {},
   "outputs": [],
   "source": [
    "def found_in_block(grid, position, num):\n",
    "    \"\"\"Finds whether the suggested number is already in the same 3x3 block\"\"\"\n",
    "    return num in grid[3 * ((position // 9) // 3): (3 * ((position // 9) // 3) + 3), \\\n",
    "                    3 * ((position % 9) // 3): (3 * ((position % 9) // 3) + 3)]"
   ]
  },
  {
   "cell_type": "code",
   "execution_count": 7,
   "metadata": {},
   "outputs": [],
   "source": [
    "def check_safe_cell(grid, position, num):\n",
    "    \"\"\"Checks whether the suggested number can safely be placed in the cell\"\"\"\n",
    "    return not found_in_row(grid, position, num) and \\\n",
    "        not found_in_col(grid, position, num) and \\\n",
    "        not found_in_block(grid, position, num)"
   ]
  },
  {
   "cell_type": "code",
   "execution_count": 11,
   "metadata": {},
   "outputs": [],
   "source": [
    "def solve_sudoku(grid):\n",
    "    original_grid = np.array(grid, copy=True)\n",
    "\n",
    "    forwards = True\n",
    "    position = 0\n",
    "\n",
    "    while position < 81:\n",
    "        if check_empty_cell(original_grid, position) and forwards:\n",
    "            for num in range(1, 10):\n",
    "                if check_safe_cell(grid, position, num):\n",
    "                    grid[position // 9, position % 9] = num\n",
    "                    position += 1\n",
    "                    break\n",
    "                else:\n",
    "                    if num == 9:\n",
    "                        forwards = False\n",
    "                        position -= 1\n",
    "                        break\n",
    "        elif not check_empty_cell(original_grid, position) and forwards:\n",
    "            position += 1\n",
    "        elif check_empty_cell(original_grid, position) and not forwards:\n",
    "            if grid[position // 9, position % 9] == 9:\n",
    "                grid[position // 9, position % 9] = 0\n",
    "                position -= 1\n",
    "            else:\n",
    "                for num in range(grid[position // 9, position % 9] + 1, 10):\n",
    "                    if check_safe_cell(grid, position, num):\n",
    "                        grid[position // 9, position % 9] = num\n",
    "                        forwards = True\n",
    "                        position += 1\n",
    "                        break\n",
    "                    else:\n",
    "                        if num == 9:\n",
    "                            grid[position // 9, position % 9] = 0\n",
    "                            position -= 1\n",
    "                            break\n",
    "        elif not check_empty_cell(original_grid, position) and not forwards:\n",
    "            position -= 1\n",
    "    print(grid)\n",
    "    return grid"
   ]
  },
  {
   "cell_type": "code",
   "execution_count": 12,
   "metadata": {},
   "outputs": [
    {
     "name": "stdin",
     "output_type": "stream",
     "text": [
      "Enter your sudoku.                    Type the numbers, separated with commas, from the grid row by row, from left to right.                     Use zero (0) for empty cells.                      Tap \"quit\" to quit. 903020806000300402006085710000802001600000004032000070010000007408050000000431000\n"
     ]
    },
    {
     "name": "stdout",
     "output_type": "stream",
     "text": [
      "[['9' '0' '3' '0' '2' '0' '8' '0' '6']\n",
      " ['0' '0' '0' '3' '0' '0' '4' '0' '2']\n",
      " ['0' '0' '6' '0' '8' '5' '7' '1' '0']\n",
      " ['0' '0' '0' '8' '0' '2' '0' '0' '1']\n",
      " ['6' '0' '0' '0' '0' '0' '0' '0' '4']\n",
      " ['0' '3' '2' '0' '0' '0' '0' '7' '0']\n",
      " ['0' '1' '0' '0' '0' '0' '0' '0' '7']\n",
      " ['4' '0' '8' '0' '5' '0' '0' '0' '0']\n",
      " ['0' '0' '0' '4' '3' '1' '0' '0' '0']]\n"
     ]
    }
   ],
   "source": [
    "# The Sudoku grid is requested and stored in a variable\n",
    "\n",
    "user_input = input(\"Enter your sudoku.\\\n",
    "                    Type the numbers, separated with commas, from the grid row by row, from left to right. \\\n",
    "                    Use zero (0) for empty cells.  \\\n",
    "                    Tap \\\"quit\\\" to quit.\")\n",
    "\n",
    "user_input = [i for i in user_input]\n",
    "\n",
    "sudoku = make_grid(user_input)\n",
    "\n",
    "print(sudoku)"
   ]
  },
  {
   "cell_type": "code",
   "execution_count": 13,
   "metadata": {},
   "outputs": [
    {
     "name": "stdout",
     "output_type": "stream",
     "text": [
      "[['9' '0' '3' '0' '2' '0' '8' '0' '6']\n",
      " ['0' '0' '0' '3' '0' '0' '4' '0' '2']\n",
      " ['0' '0' '6' '0' '8' '5' '7' '1' '0']\n",
      " ['0' '0' '0' '8' '0' '2' '0' '0' '1']\n",
      " ['6' '0' '0' '0' '0' '0' '0' '0' '4']\n",
      " ['0' '3' '2' '0' '0' '0' '0' '7' '0']\n",
      " ['0' '1' '0' '0' '0' '0' '0' '0' '7']\n",
      " ['4' '0' '8' '0' '5' '0' '0' '0' '0']\n",
      " ['0' '0' '0' '4' '3' '1' '0' '0' '0']]\n"
     ]
    }
   ],
   "source": [
    "solved = solve_sudoku(sudoku)"
   ]
  },
  {
   "cell_type": "code",
   "execution_count": 14,
   "metadata": {},
   "outputs": [
    {
     "name": "stdout",
     "output_type": "stream",
     "text": [
      "[['9' '0' '3' '0' '2' '0' '8' '0' '6']\n",
      " ['0' '0' '0' '3' '0' '0' '4' '0' '2']\n",
      " ['0' '0' '6' '0' '8' '5' '7' '1' '0']\n",
      " ['0' '0' '0' '8' '0' '2' '0' '0' '1']\n",
      " ['6' '0' '0' '0' '0' '0' '0' '0' '4']\n",
      " ['0' '3' '2' '0' '0' '0' '0' '7' '0']\n",
      " ['0' '1' '0' '0' '0' '0' '0' '0' '7']\n",
      " ['4' '0' '8' '0' '5' '0' '0' '0' '0']\n",
      " ['0' '0' '0' '4' '3' '1' '0' '0' '0']]\n"
     ]
    }
   ],
   "source": [
    "print(solved)"
   ]
  },
  {
   "cell_type": "code",
   "execution_count": null,
   "metadata": {},
   "outputs": [],
   "source": []
  }
 ],
 "metadata": {
  "kernelspec": {
   "display_name": "Python 3",
   "language": "python",
   "name": "python3"
  },
  "language_info": {
   "codemirror_mode": {
    "name": "ipython",
    "version": 3
   },
   "file_extension": ".py",
   "mimetype": "text/x-python",
   "name": "python",
   "nbconvert_exporter": "python",
   "pygments_lexer": "ipython3",
   "version": "3.8.1"
  }
 },
 "nbformat": 4,
 "nbformat_minor": 4
}
