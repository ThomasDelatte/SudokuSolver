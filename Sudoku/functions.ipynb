{
 "cells": [
  {
   "cell_type": "code",
   "execution_count": 1,
   "metadata": {},
   "outputs": [],
   "source": [
    "import numpy as np"
   ]
  },
  {
   "cell_type": "code",
   "execution_count": 2,
   "metadata": {},
   "outputs": [],
   "source": [
    "def make_grid(user_input):\n",
    "    \"\"\"Transforms user input into a two-dimensional Numpy array\"\"\"\n",
    "    grid = np.reshape(user_input, (9, 9))\n",
    "    return grid"
   ]
  },
  {
   "cell_type": "code",
   "execution_count": 3,
   "metadata": {},
   "outputs": [],
   "source": [
    "def check_empty_cell(grid, position):\n",
    "    \"\"\"Determines the next empty cell to be filled with a number by the Sudoku solver\"\"\"\n",
    "    value = grid[position // 9][position % 9]\n",
    "    return not value"
   ]
  },
  {
   "cell_type": "code",
   "execution_count": 4,
   "metadata": {},
   "outputs": [],
   "source": [
    "def found_in_row(grid, position, num):\n",
    "    \"\"\"Finds whether the suggested number is already in the row\"\"\"\n",
    "    return num in grid[position // 9]"
   ]
  },
  {
   "cell_type": "code",
   "execution_count": 5,
   "metadata": {},
   "outputs": [],
   "source": [
    "def found_in_col(grid, position, num):\n",
    "    \"\"\"Finds whether the suggested number is already in the column\"\"\"\n",
    "    return num in grid[:, position % 9]"
   ]
  },
  {
   "cell_type": "code",
   "execution_count": 6,
   "metadata": {},
   "outputs": [],
   "source": [
    "def found_in_block(grid, position, num):\n",
    "    \"\"\"Finds whether the suggested number is already in the same 3x3 block\"\"\"\n",
    "    return (\n",
    "        num\n",
    "        in grid[\n",
    "            3 * ((position // 9) // 3) : (3 * ((position // 9) // 3) + 3),\n",
    "            3 * ((position % 9) // 3) : (3 * ((position % 9) // 3) + 3),\n",
    "        ]\n",
    "    )"
   ]
  },
  {
   "cell_type": "code",
   "execution_count": 7,
   "metadata": {},
   "outputs": [],
   "source": [
    "def check_safe_cell(grid, position, num):\n",
    "    \"\"\"Checks whether the suggested number can safely be placed in the cell\"\"\"\n",
    "    return (\n",
    "        not found_in_row(grid, position, num)\n",
    "        and not found_in_col(grid, position, num)\n",
    "        and not found_in_block(grid, position, num)\n",
    "    )"
   ]
  },
  {
   "cell_type": "code",
   "execution_count": 8,
   "metadata": {},
   "outputs": [],
   "source": [
    "def solve_sudoku(grid):\n",
    "    \"\"\"Implements a backtracking algorithm. \n",
    "    \n",
    "    We try filling empty cells one by one. \n",
    "    \n",
    "    Whenever we find that the current cell cannot lead to a viable solution, we empty it and we backtrack to the previous cell.\n",
    "    \n",
    "    The function takes as input a grid from the user and returns the solved sudoku.\n",
    "    \n",
    "    \"\"\"\n",
    "\n",
    "    # Keep initial grid to recall which cells are empty\n",
    "    initial_grid = np.array(grid, copy=True)\n",
    "\n",
    "    # Initialize variables\n",
    "    onwards = True\n",
    "    position = 0\n",
    "\n",
    "    # The algorithm solves the grid row by row, from left to right.\n",
    "    while position < 81:\n",
    "\n",
    "        # If cell is empty and we are not backtracking\n",
    "        if check_empty_cell(initial_grid, position) and onwards:\n",
    "            for num in range(1, 10):\n",
    "\n",
    "                # Try to put the first safe number starting at 1\n",
    "                if check_safe_cell(grid, position, num):\n",
    "                    grid[position // 9, position % 9] = num\n",
    "                    position += 1\n",
    "                    break\n",
    "\n",
    "                # If no number fits (1-9), there is a mistake in a preceding cell and we have to backtrack\n",
    "                else:\n",
    "                    if num == 9:\n",
    "                        onwards = False\n",
    "                        position -= 1\n",
    "                        break\n",
    "\n",
    "        # If cell is not empty and we are not backtracking (going onwards): go to next cell\n",
    "        elif not check_empty_cell(initial_grid, position) and onwards:\n",
    "            position += 1\n",
    "\n",
    "        # If cell is empty but we are backtracking\n",
    "        elif check_empty_cell(initial_grid, position) and not onwards:\n",
    "\n",
    "            # If number already at 9, empty cell and go 1 cell backwards\n",
    "            if grid[position // 9, position % 9] == 9:\n",
    "                grid[position // 9, position % 9] = 0\n",
    "                position -= 1\n",
    "\n",
    "            # If number less than 9: try next number(s)\n",
    "            else:\n",
    "                for num in range(grid[position // 9, position % 9] + 1, 10):\n",
    "                    if check_safe_cell(grid, position, num):\n",
    "                        grid[position // 9, position % 9] = num\n",
    "                        onwards = True\n",
    "                        position += 1\n",
    "                        break\n",
    "                    else:\n",
    "                        if num == 9:\n",
    "                            grid[position // 9, position % 9] = 0\n",
    "                            position -= 1\n",
    "                            break\n",
    "\n",
    "        # If cell filled in the initial grid and we are backtracking, go 1 cell backwards\n",
    "        elif not check_empty_cell(initial_grid, position) and not onwards:\n",
    "            position -= 1\n",
    "\n",
    "    return grid"
   ]
  }
 ],
 "metadata": {
  "kernelspec": {
   "display_name": "Python 3",
   "language": "python",
   "name": "python3"
  },
  "language_info": {
   "codemirror_mode": {
    "name": "ipython",
    "version": 3
   },
   "file_extension": ".py",
   "mimetype": "text/x-python",
   "name": "python",
   "nbconvert_exporter": "python",
   "pygments_lexer": "ipython3",
   "version": "3.8.1"
  }
 },
 "nbformat": 4,
 "nbformat_minor": 4
}
