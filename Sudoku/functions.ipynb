{
 "cells": [
  {
   "cell_type": "code",
   "execution_count": 1,
   "metadata": {},
   "outputs": [],
   "source": [
    "import numpy as np"
   ]
  },
  {
   "cell_type": "code",
   "execution_count": 2,
   "metadata": {},
   "outputs": [],
   "source": [
    "def make_grid(user_input):\n",
    "    \"\"\"Transforms user input into a two-dimensional Numpy array\"\"\"\n",
    "    grid = np.reshape(user_input, (9, 9))\n",
    "    return grid"
   ]
  },
  {
   "cell_type": "code",
   "execution_count": 3,
   "metadata": {},
   "outputs": [],
   "source": [
    "def check_empty_cell(grid, position):\n",
    "    \"\"\"Determines the next empty cell to be filled with a number by the Sudoku solver\"\"\"\n",
    "    value = grid[position // 9][position % 9]\n",
    "    return not value"
   ]
  },
  {
   "cell_type": "code",
   "execution_count": 4,
   "metadata": {},
   "outputs": [],
   "source": [
    "def found_in_row(grid, position, num):\n",
    "    \"\"\"Finds whether the suggested number is already in the row\"\"\"\n",
    "    return num in grid[position // 9]   "
   ]
  },
  {
   "cell_type": "code",
   "execution_count": 5,
   "metadata": {},
   "outputs": [],
   "source": [
    "def found_in_col(grid, position, num):\n",
    "    \"\"\"Finds whether the suggested number is already in the column\"\"\"\n",
    "    return num in grid[:, position % 9]"
   ]
  },
  {
   "cell_type": "code",
   "execution_count": 6,
   "metadata": {},
   "outputs": [],
   "source": [
    "def found_in_block(grid, position, num):\n",
    "    \"\"\"Finds whether the suggested number is already in the same 3x3 block\"\"\"\n",
    "    return num in grid[3 * ((position // 9) // 3): (3 * ((position // 9) // 3) + 3), \\\n",
    "                    3 * ((position % 9) // 3): (3 * ((position % 9) // 3) + 3)]"
   ]
  },
  {
   "cell_type": "code",
   "execution_count": 7,
   "metadata": {},
   "outputs": [],
   "source": [
    "def check_safe_cell(grid, position, num):\n",
    "    \"\"\"Checks whether the suggested number can safely be placed in the cell\"\"\"\n",
    "    return not found_in_row(grid, position, num) and \\\n",
    "        not found_in_col(grid, position, num) and \\\n",
    "        not found_in_block(grid, position, num)"
   ]
  },
  {
   "cell_type": "code",
   "execution_count": 8,
   "metadata": {},
   "outputs": [],
   "source": [
    "def solve_sudoku(grid):\n",
    "    original_grid = np.array(grid, copy=True)\n",
    "\n",
    "    forwards = True\n",
    "    position = 0\n",
    "\n",
    "    while position < 81:\n",
    "        if check_empty_cell(original_grid, position) and forwards:\n",
    "            for num in range(1, 10):\n",
    "                if check_safe_cell(grid, position, num):\n",
    "                    grid[position // 9, position % 9] = num\n",
    "                    position += 1\n",
    "                    break\n",
    "                else:\n",
    "                    if num == 9:\n",
    "                        forwards = False\n",
    "                        position -= 1\n",
    "                        break\n",
    "        elif not check_empty_cell(original_grid, position) and forwards:\n",
    "            position += 1\n",
    "        elif check_empty_cell(original_grid, position) and not forwards:\n",
    "            if grid[position // 9, position % 9] == 9:\n",
    "                grid[position // 9, position % 9] = 0\n",
    "                position -= 1\n",
    "            else:\n",
    "                for num in range(grid[position // 9, position % 9] + 1, 10):\n",
    "                    if check_safe_cell(grid, position, num):\n",
    "                        grid[position // 9, position % 9] = num\n",
    "                        forwards = True\n",
    "                        position += 1\n",
    "                        break\n",
    "                    else:\n",
    "                        if num == 9:\n",
    "                            grid[position // 9, position % 9] = 0\n",
    "                            position -= 1\n",
    "                            break\n",
    "        elif not check_empty_cell(original_grid, position) and not forwards:\n",
    "            position -= 1\n",
    "    print(grid)\n",
    "    return grid"
   ]
  }
 ],
 "metadata": {
  "kernelspec": {
   "display_name": "Python 3",
   "language": "python",
   "name": "python3"
  },
  "language_info": {
   "codemirror_mode": {
    "name": "ipython",
    "version": 3
   },
   "file_extension": ".py",
   "mimetype": "text/x-python",
   "name": "python",
   "nbconvert_exporter": "python",
   "pygments_lexer": "ipython3",
   "version": "3.8.1"
  }
 },
 "nbformat": 4,
 "nbformat_minor": 4
}
