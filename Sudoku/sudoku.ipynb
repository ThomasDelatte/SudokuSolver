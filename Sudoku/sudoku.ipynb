{
 "cells": [
  {
   "cell_type": "code",
   "execution_count": 1,
   "metadata": {},
   "outputs": [],
   "source": [
    "# Import relevant modules\n",
    "import numpy as np\n",
    "import time\n",
    "import import_ipynb"
   ]
  },
  {
   "cell_type": "code",
   "execution_count": 2,
   "metadata": {},
   "outputs": [
    {
     "name": "stdout",
     "output_type": "stream",
     "text": [
      "importing Jupyter notebook from functions.ipynb\n"
     ]
    }
   ],
   "source": [
    "# Import the functions file we created with the functions to solve the Sudoku\n",
    "import functions"
   ]
  },
  {
   "cell_type": "code",
   "execution_count": 3,
   "metadata": {},
   "outputs": [
    {
     "name": "stdin",
     "output_type": "stream",
     "text": [
      "Enter your sudoku.                    Type the numbers, separated with commas, from the grid row by row, from left to right.                     Use zero (0) for empty cells.                      Tap \"quit\" to quit. 000090010300010200000400067007500000006029081509000000200000000008000000160305002\n"
     ]
    },
    {
     "name": "stdout",
     "output_type": "stream",
     "text": [
      "[[0 0 0 0 9 0 0 1 0]\n",
      " [3 0 0 0 1 0 2 0 0]\n",
      " [0 0 0 4 0 0 0 6 7]\n",
      " [0 0 7 5 0 0 0 0 0]\n",
      " [0 0 6 0 2 9 0 8 1]\n",
      " [5 0 9 0 0 0 0 0 0]\n",
      " [2 0 0 0 0 0 0 0 0]\n",
      " [0 0 8 0 0 0 0 0 0]\n",
      " [1 6 0 3 0 5 0 0 2]]\n"
     ]
    }
   ],
   "source": [
    "# The Sudoku grid is requested and stored in a variable\n",
    "# You can use the following grid (normal-hard sudoku):\n",
    "# 000090010300010200000400067007500000006029081509000000200000000008000000160305002\n",
    "# Or the hardest Sudoku in the world:\n",
    "# 800000000003600000070090200050007000000045700000100030001000068008500010090000400\n",
    "user_input = input(\n",
    "    'Enter your sudoku.\\\n",
    "                    Type the numbers, separated with commas, from the grid row by row, from left to right. \\\n",
    "                    Use zero (0) for empty cells.  \\\n",
    "                    Tap \"quit\" to quit.'\n",
    ")\n",
    "\n",
    "# User input is converted into integers and put in a list\n",
    "user_input = [int(i) for i in user_input]\n",
    "\n",
    "# We transform user input into a 2-dimensional Numpy array\n",
    "grid = functions.make_grid(user_input)\n",
    "\n",
    "print(grid)"
   ]
  },
  {
   "cell_type": "code",
   "execution_count": 4,
   "metadata": {},
   "outputs": [
    {
     "name": "stdout",
     "output_type": "stream",
     "text": [
      "CPU times: user 1.02 s, sys: 31.2 ms, total: 1.05 s\n",
      "Wall time: 1.15 s\n"
     ]
    },
    {
     "data": {
      "text/plain": [
       "array([[6, 7, 2, 8, 9, 3, 4, 1, 5],\n",
       "       [3, 4, 5, 6, 1, 7, 2, 9, 8],\n",
       "       [9, 8, 1, 4, 5, 2, 3, 6, 7],\n",
       "       [8, 1, 7, 5, 3, 4, 6, 2, 9],\n",
       "       [4, 3, 6, 7, 2, 9, 5, 8, 1],\n",
       "       [5, 2, 9, 1, 6, 8, 7, 3, 4],\n",
       "       [2, 5, 3, 9, 7, 1, 8, 4, 6],\n",
       "       [7, 9, 8, 2, 4, 6, 1, 5, 3],\n",
       "       [1, 6, 4, 3, 8, 5, 9, 7, 2]])"
      ]
     },
     "execution_count": 4,
     "metadata": {},
     "output_type": "execute_result"
    }
   ],
   "source": [
    "# We now use the function we created to solve the Sudoku and we time it\n",
    "%time functions.solve_sudoku(grid)"
   ]
  }
 ],
 "metadata": {
  "kernelspec": {
   "display_name": "Python 3",
   "language": "python",
   "name": "python3"
  },
  "language_info": {
   "codemirror_mode": {
    "name": "ipython",
    "version": 3
   },
   "file_extension": ".py",
   "mimetype": "text/x-python",
   "name": "python",
   "nbconvert_exporter": "python",
   "pygments_lexer": "ipython3",
   "version": "3.8.1"
  }
 },
 "nbformat": 4,
 "nbformat_minor": 4
}
