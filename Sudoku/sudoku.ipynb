{
 "cells": [
  {
   "cell_type": "code",
   "execution_count": 1,
   "metadata": {},
   "outputs": [],
   "source": [
    "import numpy as np \n",
    "import time\n",
    "import import_ipynb"
   ]
  },
  {
   "cell_type": "code",
   "execution_count": 2,
   "metadata": {},
   "outputs": [
    {
     "name": "stdout",
     "output_type": "stream",
     "text": [
      "importing Jupyter notebook from functions.ipynb\n"
     ]
    }
   ],
   "source": [
    "from functions import *"
   ]
  },
  {
   "cell_type": "code",
   "execution_count": 3,
   "metadata": {},
   "outputs": [
    {
     "name": "stdin",
     "output_type": "stream",
     "text": [
      "Enter your sudoku.                    Type the numbers, separated with commas, from the grid row by row, from left to right.                     Use zero (0) for empty cells.                      Tap \"quit\" to quit. 903020806000300402006085710000802001600000004032000070010000007408050000000431000\n"
     ]
    },
    {
     "name": "stdout",
     "output_type": "stream",
     "text": [
      "[['9' '0' '3' '0' '2' '0' '8' '0' '6']\n",
      " ['0' '0' '0' '3' '0' '0' '4' '0' '2']\n",
      " ['0' '0' '6' '0' '8' '5' '7' '1' '0']\n",
      " ['0' '0' '0' '8' '0' '2' '0' '0' '1']\n",
      " ['6' '0' '0' '0' '0' '0' '0' '0' '4']\n",
      " ['0' '3' '2' '0' '0' '0' '0' '7' '0']\n",
      " ['0' '1' '0' '0' '0' '0' '0' '0' '7']\n",
      " ['4' '0' '8' '0' '5' '0' '0' '0' '0']\n",
      " ['0' '0' '0' '4' '3' '1' '0' '0' '0']]\n"
     ]
    }
   ],
   "source": [
    "# The Sudoku grid is requested and stored in a variable\n",
    "\n",
    "user_input = input(\"Enter your sudoku.\\\n",
    "                    Type the numbers, separated with commas, from the grid row by row, from left to right. \\\n",
    "                    Use zero (0) for empty cells.  \\\n",
    "                    Tap \\\"quit\\\" to quit.\")\n",
    "\n",
    "user_input = [i for i in user_input]\n",
    "\n",
    "grid = make_grid(user_input)\n",
    "\n",
    "print(grid)"
   ]
  }
 ],
 "metadata": {
  "kernelspec": {
   "display_name": "Python 3",
   "language": "python",
   "name": "python3"
  },
  "language_info": {
   "codemirror_mode": {
    "name": "ipython",
    "version": 3
   },
   "file_extension": ".py",
   "mimetype": "text/x-python",
   "name": "python",
   "nbconvert_exporter": "python",
   "pygments_lexer": "ipython3",
   "version": "3.8.1"
  }
 },
 "nbformat": 4,
 "nbformat_minor": 4
}
